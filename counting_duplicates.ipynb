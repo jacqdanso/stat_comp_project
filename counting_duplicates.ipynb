{
 "cells": [
  {
   "cell_type": "code",
   "execution_count": 1,
   "metadata": {
    "collapsed": true
   },
   "outputs": [],
   "source": [
    "#import relevant packages\n",
    "import pandas as pd\n",
    "import matplotlib.pyplot as plt\n",
    "%matplotlib inline"
   ]
  },
  {
   "cell_type": "code",
   "execution_count": 2,
   "metadata": {
    "collapsed": true
   },
   "outputs": [],
   "source": [
    "#read in submission id, comment text, and submission date from data file\n",
    "data = pd.read_csv(\"fcc_comments.csv\",header=0,low_memory=False,\n",
    "                   usecols=[\"id_submission\",\"text_data\",\"date_submission\"])\n",
    "#strip newlines from text\n",
    "data[\"text_data\"] = data[\"text_data\"].str.rstrip()\n",
    "data[\"text_data\"] = data[\"text_data\"].str.replace(\"\\n\",\"\")\n",
    "#add new column to data for duplicate count\n",
    "data[\"dupe_count\"] = 0\n",
    "data[\"dupe_count\"] += 1"
   ]
  },
  {
   "cell_type": "code",
   "execution_count": 3,
   "metadata": {
    "collapsed": true
   },
   "outputs": [],
   "source": [
    "#count duplicates\n",
    "values = data[\"text_data\"].value_counts().keys().tolist()\n",
    "counts = data[\"text_data\"].value_counts().tolist()"
   ]
  },
  {
   "cell_type": "code",
   "execution_count": 4,
   "metadata": {},
   "outputs": [
    {
     "name": "stdout",
     "output_type": "stream",
     "text": [
      "CPU times: user 25min 7s, sys: 4.11 s, total: 25min 11s\n",
      "Wall time: 25min 27s\n"
     ]
    }
   ],
   "source": [
    "%%time\n",
    "#add duplicate counts to data\n",
    "for ii in range(len(values)):\n",
    "    data.loc[data[\"text_data\"] == values[ii],\"dupe_count\"] = counts[ii]"
   ]
  },
  {
   "cell_type": "code",
   "execution_count": 5,
   "metadata": {
    "collapsed": true
   },
   "outputs": [],
   "source": [
    "#write new csv with duplicate counts\n",
    "data.to_csv(\"fcc_comments_dupe_counts.csv\")"
   ]
  }
 ],
 "metadata": {
  "kernelspec": {
   "display_name": "Python 3",
   "language": "python",
   "name": "python3"
  },
  "language_info": {
   "codemirror_mode": {
    "name": "ipython",
    "version": 3
   },
   "file_extension": ".py",
   "mimetype": "text/x-python",
   "name": "python",
   "nbconvert_exporter": "python",
   "pygments_lexer": "ipython3",
   "version": "3.6.3"
  }
 },
 "nbformat": 4,
 "nbformat_minor": 2
}
