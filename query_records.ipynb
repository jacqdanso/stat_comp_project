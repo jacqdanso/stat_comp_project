{
 "cells": [
  {
   "cell_type": "code",
   "execution_count": 2,
   "metadata": {
    "collapsed": true
   },
   "outputs": [],
   "source": [
    "import pandas as pd\n",
    "import requests\n",
    "from itertools import chain\n",
    "import time"
   ]
  },
  {
   "cell_type": "code",
   "execution_count": 3,
   "metadata": {
    "collapsed": true
   },
   "outputs": [],
   "source": [
    "# load first 10,000 comments \n",
    "data = pd.DataFrame.from_csv('cleaned_ecfs_17-108_0.csv')"
   ]
  },
  {
   "cell_type": "code",
   "execution_count": 10,
   "metadata": {},
   "outputs": [
    {
     "name": "stdout",
     "output_type": "stream",
     "text": [
      "CPU times: user 2 µs, sys: 1 µs, total: 3 µs\n",
      "Wall time: 20 µs\n",
      "Comment number:  0\n",
      "Comment number:  1\n",
      "Comment number:  2\n",
      "Comment number:  3\n",
      "Comment number:  4\n"
     ]
    }
   ],
   "source": [
    "%time\n",
    "# query for data breaches - make this section better, eliminate for loop\n",
    "# see https://medium.com/python-pandemonium/never-write-for-loops-again-91a5a4c84baf\n",
    "# status code information : http://www.restapitutorial.com/httpstatuscodes.html\n",
    "server = \"haveibeenpwned.com\"\n",
    "session = requests.Session()\n",
    "session.trust_env = False\n",
    "proxies = {                           # Proxy to use cover IP address\n",
    " 'http': 'http://127.0.0.1:8080',    \n",
    "}\n",
    "headers = {'User-Agent': \"checkpwnedemails\"}\n",
    "valid_emails = [i if type(i) is str else ' ' for i in chain(data['email'])]\n",
    "status_code = []\n",
    "breach = []\n",
    "\n",
    "for i in range(len(valid_emails)):\n",
    "    r = session.get(\"https://\" + server + \"/api/v2/breachedaccount/\" + valid_emails[i] + \"?includeUnverified=true\"+\n",
    "                 \"?truncateResponse=true\", proxies = proxies, headers=headers,verify = True)\n",
    "    time.sleep(5) # delay for five seconds\n",
    "    status_code.append(r.status_code)\n",
    "    breach.append(r.text)\n",
    "    print('Checking email ',i)"
   ]
  },
  {
   "cell_type": "code",
   "execution_count": null,
   "metadata": {
    "collapsed": true
   },
   "outputs": [],
   "source": [
    "data['breach'] = breach\n",
    "data['status_code'] = status_code\n",
    "data.to_csv('modified_ecfs_17-108_0.csv')"
   ]
  }
 ],
 "metadata": {
  "kernelspec": {
   "display_name": "Python 3",
   "language": "python",
   "name": "python3"
  },
  "language_info": {
   "codemirror_mode": {
    "name": "ipython",
    "version": 3
   },
   "file_extension": ".py",
   "mimetype": "text/x-python",
   "name": "python",
   "nbconvert_exporter": "python",
   "pygments_lexer": "ipython3",
   "version": "3.6.3"
  }
 },
 "nbformat": 4,
 "nbformat_minor": 2
}
