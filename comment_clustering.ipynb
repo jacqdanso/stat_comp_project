{
 "cells": [
  {
   "cell_type": "code",
   "execution_count": 16,
   "metadata": {
    "collapsed": true
   },
   "outputs": [],
   "source": [
    "#import relevant packages\n",
    "import pandas as pd\n",
    "import numpy as np\n",
    "import json\n",
    "from sklearn.cluster import AgglomerativeClustering\n",
    "import spacy\n",
    "import hdbscan\n",
    "from sklearn.metrics import silhouette_samples, silhouette_score\n",
    "import matplotlib.cm as cm\n",
    "import matplotlib.pyplot as plt\n",
    "%matplotlib inline"
   ]
  },
  {
   "cell_type": "code",
   "execution_count": 3,
   "metadata": {
    "collapsed": true,
    "scrolled": true
   },
   "outputs": [],
   "source": [
    "#read in data\n",
    "data_raw = pd.DataFrame(json.load(open(\"ecfs_17-108_0.json\")))"
   ]
  },
  {
   "cell_type": "code",
   "execution_count": 4,
   "metadata": {},
   "outputs": [
    {
     "name": "stdout",
     "output_type": "stream",
     "text": [
      "CPU times: user 323 ms, sys: 15.4 ms, total: 339 ms\n",
      "Wall time: 342 ms\n"
     ]
    }
   ],
   "source": [
    "%%time\n",
    "#drop rows with NaN in the comments\n",
    "rows_to_drop = list()\n",
    "for ii in range(3,len(data_raw[\"text_data\"])):\n",
    "    if pd.isnull(data_raw[\"text_data\"][ii]) == True:\n",
    "        if pd.isnull(data_raw[\"text_data_docs\"][ii][0]) == True:\n",
    "            rows_to_drop.append(ii)\n",
    "            \n",
    "data = data_raw.drop(rows_to_drop)"
   ]
  },
  {
   "cell_type": "code",
   "execution_count": 5,
   "metadata": {
    "collapsed": true
   },
   "outputs": [],
   "source": [
    "#get text of comments\n",
    "text_list = list()\n",
    "for ii in range(3,len(data[\"text_data\"])):\n",
    "        if pd.isnull(data[\"text_data\"][ii]) == False:\n",
    "            text_list.append(data[\"text_data\"][ii])\n",
    "        elif pd.isnull(data[\"text_data_docs\"][ii][0]) == False:\n",
    "            if type(data[\"text_data_docs\"][ii][0]) == dict:\n",
    "                text_list.append(data[\"text_data_docs\"][ii][0][\"data\"])\n",
    "            else:\n",
    "                text_list.append(data[\"text_data_docs\"][ii][0])\n",
    "        else:\n",
    "            continue"
   ]
  },
  {
   "cell_type": "code",
   "execution_count": 6,
   "metadata": {},
   "outputs": [
    {
     "name": "stdout",
     "output_type": "stream",
     "text": [
      "CPU times: user 45min 57s, sys: 48.9 s, total: 46min 46s\n",
      "Wall time: 24min\n"
     ]
    }
   ],
   "source": [
    "%%time\n",
    "#vectorize text\n",
    "nlp = spacy.load(\"en\")\n",
    "\n",
    "text_vec = list()\n",
    "\n",
    "for comm in text_list:\n",
    "    if type(comm) == str:\n",
    "        comm_broken_down = nlp(comm)\n",
    "        comm_vec = np.mean([word.vector for word in comm_broken_down], axis=0)\n",
    "        text_vec.append(comm_vec)\n",
    "    else:\n",
    "        text_vec.append(np.zeros(len(comm_vec)))        "
   ]
  },
  {
   "cell_type": "code",
   "execution_count": 8,
   "metadata": {
    "scrolled": false
   },
   "outputs": [
    {
     "name": "stdout",
     "output_type": "stream",
     "text": [
      "CPU times: user 7min 46s, sys: 24.6 s, total: 8min 10s\n",
      "Wall time: 7min 49s\n"
     ]
    }
   ],
   "source": [
    "%%time\n",
    "#check silhouette scores with AgglomerativeClustering\n",
    "sil_avg = list()\n",
    "\n",
    "text = pd.DataFrame()\n",
    "conf_num = data[\"confirmation_number\"][3:].tolist()\n",
    "text[\"confirmation_number\"] = conf_num\n",
    "text[\"text_data\"] = text_list\n",
    "\n",
    "num_clusters = [30,40,50,60,70,80,90,100]\n",
    "for num in num_clusters:\n",
    "    clusterer = AgglomerativeClustering(n_clusters=num, linkage='ward')\n",
    "    labels = clusterer.fit_predict(text_vec)\n",
    "    text[\"cluster_id\"] = labels\n",
    "    text = pd.concat([text[\"cluster_id\"],text[\"confirmation_number\"],\n",
    "                  text[\"text_data\"],pd.DataFrame(text_vec)],axis=1)\n",
    "    #get average silhouette score to determine whether number of clusters was appropriate\n",
    "    features = text.iloc[:,-384:]\n",
    "    silhouette_avg = silhouette_score(features,labels)\n",
    "    sil_avg.append(silhouette_avg)"
   ]
  },
  {
   "cell_type": "code",
   "execution_count": 15,
   "metadata": {},
   "outputs": [
    {
     "data": {
      "image/png": "[encoded data removed]",
      "text/plain": [
       "<matplotlib.figure.Figure at 0x7f30fba1fbe0>"
      ]
     },
     "metadata": {},
     "output_type": "display_data"
    }
   ],
   "source": [
    "plt.plot(num_clusters,sil_avg,'o')\n",
    "plt.xlabel(\"Number of Clusters\")\n",
    "plt.ylabel(\"Silhouette Score\")\n",
    "plt.title(\"Silhouette Scores with AgglomerativeClustering\",fontsize=15);"
   ]
  },
  {
   "cell_type": "code",
   "execution_count": 26,
   "metadata": {},
   "outputs": [
    {
     "name": "stdout",
     "output_type": "stream",
     "text": [
      "CPU times: user 14min 42s, sys: 23.5 s, total: 15min 6s\n",
      "Wall time: 14min 40s\n"
     ]
    }
   ],
   "source": [
    "%%time\n",
    "#check silhouette scores with HDBSCAN\n",
    "sil_avg2 = list()\n",
    "\n",
    "text = pd.DataFrame()\n",
    "conf_num = data[\"confirmation_number\"][3:].tolist()\n",
    "text[\"confirmation_number\"] = conf_num\n",
    "text[\"text_data\"] = text_list\n",
    "\n",
    "num2 = [5,10,15,20,25,30,35,40]\n",
    "\n",
    "for num in num2:\n",
    "    clusterer2 = hdbscan.HDBSCAN(min_cluster_size=num)\n",
    "    clustered_text = clusterer2.fit_predict(text_vec)\n",
    "    labels2 = clusterer2.labels_\n",
    "    text[\"cluster_id\"] = labels2\n",
    "    text = pd.concat([text[\"cluster_id\"],text[\"confirmation_number\"],\n",
    "                  text[\"text_data\"],pd.DataFrame(text_vec)],axis=1)\n",
    "    #get average silhouette score to determine whether number of clusters was appropriate\n",
    "    features = text.iloc[:,-384:]\n",
    "    silhouette_avg = silhouette_score(features,labels2)\n",
    "    sil_avg2.append(silhouette_avg)"
   ]
  },
  {
   "cell_type": "code",
   "execution_count": 28,
   "metadata": {},
   "outputs": [
    {
     "data": {
      "image/png": "[encoded data removed]",
      "text/plain": [
       "<matplotlib.figure.Figure at 0x7f30fb586a58>"
      ]
     },
     "metadata": {},
     "output_type": "display_data"
    }
   ],
   "source": [
    "plt.plot(num2,sil_avg2,'o')\n",
    "plt.xlabel(\"Min Cluster Size\")\n",
    "plt.ylabel(\"Silhouette Score\")\n",
    "plt.title(\"Silhouette Scores with HDBSCAN\",fontsize=15);"
   ]
  },
  {
   "cell_type": "code",
   "execution_count": 35,
   "metadata": {},
   "outputs": [
    {
     "name": "stdout",
     "output_type": "stream",
     "text": [
      "CPU times: user 1min 2s, sys: 2.56 s, total: 1min 4s\n",
      "Wall time: 1min 5s\n"
     ]
    }
   ],
   "source": [
    "%%time\n",
    "num=50\n",
    "#cluster text vectors and generate silhouette scores\n",
    "clusterer = AgglomerativeClustering(n_clusters=num, linkage='ward')\n",
    "labels = clusterer.fit_predict(text_vec)\n",
    "\n",
    "text = pd.DataFrame()\n",
    "conf_num = data[\"confirmation_number\"][3:].tolist()\n",
    "text[\"confirmation_number\"] = conf_num\n",
    "text[\"text_data\"] = text_list\n",
    "text[\"cluster_id\"] = labels\n",
    "text = pd.concat([text[\"cluster_id\"],text[\"confirmation_number\"],\n",
    "                  text[\"text_data\"],pd.DataFrame(text_vec)],axis=1)"
   ]
  },
  {
   "cell_type": "markdown",
   "metadata": {},
   "source": [
    "The silhouette score plots suggest that AgglomerativeClustering might be better for our data. The silhouette score isn't greatly impacted by the number of clusters chosen after num = 50. Similar comments could be broken down into many clusters so it isn't advantageous to choose too many clusters while trying to identify the context of comments."
   ]
  },
  {
   "cell_type": "code",
   "execution_count": 36,
   "metadata": {
    "collapsed": true
   },
   "outputs": [],
   "source": [
    "#write the results to an output file\n",
    "text.to_csv(\"fcc_comments_clustered.csv\")"
   ]
  }
 ],
 "metadata": {
  "kernelspec": {
   "display_name": "Python 3",
   "language": "python",
   "name": "python3"
  },
  "language_info": {
   "codemirror_mode": {
    "name": "ipython",
    "version": 3
   },
   "file_extension": ".py",
   "mimetype": "text/x-python",
   "name": "python",
   "nbconvert_exporter": "python",
   "pygments_lexer": "ipython3",
   "version": "3.6.3"
  }
 },
 "nbformat": 4,
 "nbformat_minor": 2
}
